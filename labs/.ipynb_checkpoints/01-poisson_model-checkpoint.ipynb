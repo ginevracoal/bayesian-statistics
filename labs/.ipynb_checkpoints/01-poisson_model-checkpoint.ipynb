{
 "cells": [
  {
   "cell_type": "code",
   "execution_count": 1,
   "metadata": {},
   "outputs": [],
   "source": [
    "set.seed(123)\n",
    "\n",
    "y20 <- rpois(20, 0.5)\n",
    "y100 <- rpois(100, 0.5)\n",
    "y1000 <- rpois(1000, 0.5)\n",
    "\n",
    "a <- c(1, 1, 1, 2)\n",
    "b <- c(.5, 2, 10, 2)"
   ]
  },
  {
   "cell_type": "code",
   "execution_count": null,
   "metadata": {},
   "outputs": [],
   "source": [
    "set.seed(123)\n",
    "\n",
    "y20 <- rpois(20, 0.5)\n",
    "y100 <- rpois(100, 0.5)\n",
    "y1000 <- rpois(1000, 0.5)\n",
    "\n",
    "a <- c(1, 1, 1, 2)\n",
    "b <- c(.5, 2, 10, 2)\n",
    "\n",
    "# 1.\n",
    "gamma_prior <- function(x, k){return(dgamma(x, a[k], b[k]))}\n",
    "\n",
    "jeffreys_prior <- function(x, theta=0.5){return(1/sqrt(x))}\n",
    "\n",
    "for(k in 1:4){\n",
    "\tcurve(gamma_prior(x, k), col=k, ylim=c(0,5), add=TRUE)\n",
    "}\n",
    "curve(jeffreys_prior(x), add=TRUE, col='yellow')\n",
    "\n",
    "# 2.\n",
    "\n",
    "gamma_posterior <- function(x, y, k){\n",
    "\treturn(dgamma(x, sum(y)+a[k], length(y)+b[k]))\n",
    "}\n",
    "\n",
    "jeffreys_posterior <-  function(x, theta=0.5){\n",
    "\treturn(dgamma(x, sum(y)+0.5, length(y)))\n",
    "}\n",
    "\n",
    "data <- c(y20, y100, y1000)\n",
    "\n",
    "plot_data <- function(y){\n",
    "  for(k in 1:4){\n",
    "    curve(gamma_posterior(x, y20, k), col=k, ylim=c(0,5), add=TRUE)\n",
    "  }\n",
    "\tcurve(jeffreys_posterior(x, y20), add=TRUE, col='yellow')\n",
    "}\n",
    "\n",
    "\n",
    "\n",
    "\n",
    "# 3.\n",
    "\n",
    "\n",
    "\n",
    "\n",
    "# 4.\n",
    "\n",
    "# 5.\n",
    "\n",
    "\n"
   ]
  }
 ],
 "metadata": {
  "kernelspec": {
   "display_name": "R",
   "language": "R",
   "name": "ir"
  },
  "language_info": {
   "codemirror_mode": "r",
   "file_extension": ".r",
   "mimetype": "text/x-r-source",
   "name": "R",
   "pygments_lexer": "r",
   "version": "3.5.3"
  }
 },
 "nbformat": 4,
 "nbformat_minor": 2
}
